{
 "cells": [
  {
   "cell_type": "code",
   "execution_count": 1,
   "metadata": {},
   "outputs": [],
   "source": [
    "%matplotlib inline\n",
    "import numpy as np\n",
    "import matplotlib.pyplot as plt\n",
    "import matplotlib.style\n",
    "import matplotlib as mpl\n",
    "\n",
    "mpl.rcParams['figure.figsize'] = [2, 2] # inches\n",
    "mpl.rcParams['font.size'] = 8\n",
    "\n",
    "# Define a function to do the most common plotting task\n",
    "def xyplot(x1=None, y1=None, x2=None, y2=None, x3=None, y3=None, title=None, fname=None):\n",
    "    plt.figure()\n",
    "    if x1 is not None and y1 is not None:\n",
    "        plt.plot(x1,y1,'b.')\n",
    "    if x2 is not None and y2 is not None:\n",
    "        plt.plot(x2,y2,'k-')\n",
    "    if x3 is not None and y3 is not None:\n",
    "        plt.plot(x3,y3,'r-')\n",
    "    plt.xlabel('x')\n",
    "    plt.ylabel('y')\n",
    "    plt.title(title)\n",
    "    plt.tight_layout()\n",
    "    if fname:\n",
    "        plt.savefig(fname)"
   ]
  },
  {
   "cell_type": "markdown",
   "metadata": {},
   "source": [
    "First, we create a simple linear model with some noise added. We plot the underlying trend (black line) and also the data points (blue). The random seed is set explicitly so that the graph can be reproduced."
   ]
  },
  {
   "cell_type": "code",
   "execution_count": 2,
   "metadata": {},
   "outputs": [
    {
     "data": {
      "image/png": "[encoded data removed]",
      "text/plain": [
       "<Figure size 432x288 with 1 Axes>"
      ]
     },
     "metadata": {
      "needs_background": "light"
     },
     "output_type": "display_data"
    }
   ],
   "source": [
    "# model is y = 3x+2\n",
    "np.random.seed(123123)\n",
    "x = np.array([0, 1, 2, 3, 4, 5])\n",
    "y = 3*x+2\n",
    "# Add the noise\n",
    "t = y + 5*(np.random.rand(6)-0.5)\n",
    "xyplot(x,t,x2=x,y2=y,title=r'$y=3x+2$',fname='simple-linear.pdf')"
   ]
  },
  {
   "cell_type": "markdown",
   "metadata": {},
   "source": [
    "Plot the data (blue points), the trend (black line), and the residuals (red lines)"
   ]
  },
  {
   "cell_type": "code",
   "execution_count": null,
   "metadata": {},
   "outputs": [],
   "source": [
    "plt.plot(x,y,'k-')\n",
    "plt.plot(x,t,'b.')\n",
    "for i,j in enumerate(x):\n",
    "    plt.plot([j,j],[y[i],t[i]],'r-')\n",
    "plt.xlabel('x')\n",
    "plt.ylabel('y')\n",
    "plt.tight_layout()\n",
    "plt.title(r'$y=3x+2+\\epsilon$')\n",
    "plt.savefig('simple-linear-residuals.pdf',)"
   ]
  },
  {
   "cell_type": "markdown",
   "metadata": {},
   "source": [
    "We now introduce a working example that we will refer to frequently. We generate data from an underlying function $y=\\sin(2\\pi x)$ and investigate how different methods are able to learn the trend."
   ]
  },
  {
   "cell_type": "code",
   "execution_count": null,
   "metadata": {},
   "outputs": [],
   "source": [
    "# First, define the function using a lambda expression because it is very simple\n",
    "f = lambda x: np.sin(2*np.pi*x)\n",
    "# Now we generate two datasets. One is defined on a high-resolution x-grid so we can plot the trend. The other is a lower-resolution sampling\n",
    "# The trend line\n",
    "x0 = np.linspace(-1,1,1000)\n",
    "y0 = f(x0) # underlying function\n",
    "# Low-res subsampling\n",
    "x = np.linspace(-1,1,10)\n",
    "y = f(x)\n",
    "# Plot both\n",
    "xyplot(x,y,x2=x0,y2=y0,title=r'$y=sin(2\\pi x)$',fname='sin.pdf')"
   ]
  },
  {
   "cell_type": "markdown",
   "metadata": {},
   "source": [
    "Now we do a naive fit of different degree of polynomial to the data, using the normal equations\n",
    "$$\\mathbf{\\Phi}^\\mathrm{T}\\mathbf{\\Phi}\\mathbf{w} = \\mathbf{\\Phi}^\\mathrm{T}\\mathbf{y}$$\n",
    "where $\\mathbf{\\Phi}_{ij} = \\phi_j(x_i)$, basis function $\\phi_j$ evaluated at data point $x_i$."
   ]
  },
  {
   "cell_type": "code",
   "execution_count": null,
   "metadata": {},
   "outputs": [],
   "source": [
    "# Maximum degree of fit\n",
    "M = 10\n",
    "# Empty list to record the RMS errors\n",
    "rsq = []\n",
    "# Empty list to record the weights for each regression run\n",
    "weights = []\n",
    "# For each degree of polynomaial fit\n",
    "for i in range(0,M):\n",
    "    # Create the Matrix of basis functions for the sampled data\n",
    "    Phi = np.array([pow(x,j) for j in range(0,i+1)]).transpose()\n",
    "    # Create a high-resolution basis matrix so that we can plot the fitted polynomial\n",
    "    hiPhi = np.array([pow(x0,j) for j in range(0,i+1)]).transpose()\n",
    "    # Solve the normal equations using a standard solver\n",
    "    w = np.linalg.solve(np.matmul(Phi.transpose(),Phi), np.matmul(Phi.transpose(),y))\n",
    "    # record the weights\n",
    "    weights.append(w)\n",
    "    # Compute the estimated values of the data points so we can compute the error\n",
    "    yp = np.matmul(Phi,w)\n",
    "    # compute the RMS error\n",
    "    rsq.append(np.sqrt(np.sum(pow(y-yp,2)/x.size)))\n",
    "    # plot the data and the estimates of the model for the low-res and high-res samplings\n",
    "    xyplot(x, y, x2=x0, y2=y0, x3=x0, y3=np.matmul(hiPhi,w), title='M='+str(i), fname='sin-M'+str(i)+'.pdf')\n",
    "# Plot the error curve\n",
    "plt.figure()\n",
    "plt.plot(rsq,'k.-')\n",
    "plt.xlabel('Degree of fit')\n",
    "plt.ylabel('RMS Error')\n",
    "plt.tight_layout()\n",
    "plt.savefig('sin-rms.pdf')\n",
    "# Print out the weights\n",
    "for i,w in enumerate(weights):\n",
    "    print(str(i) + ' & ' + ' & '.join(['{:5.2f}'.format(i) for i in w]))\n",
    "    "
   ]
  },
  {
   "cell_type": "markdown",
   "metadata": {},
   "source": [
    "We now add some random noise to the data and repeat"
   ]
  },
  {
   "cell_type": "code",
   "execution_count": null,
   "metadata": {},
   "outputs": [],
   "source": [
    "# Add the random noise\n",
    "np.random.seed(123123)\n",
    "y = f(x) + 0.5*np.random.randn(x.size)\n",
    "# Maximum degree of fit\n",
    "M = 10\n",
    "# Empty list to record the RMS errors\n",
    "rsq = []\n",
    "# Empty list to record the weights for each regression run\n",
    "weights = []\n",
    "# For each degree of polynomaial fit\n",
    "for i in range(0,M):\n",
    "    # Create the Matrix of basis functions for the sampled data\n",
    "    Phi = np.array([pow(x,j) for j in range(0,i+1)]).transpose()\n",
    "    # Create a high-resolution basis matrix so that we can plot the fitted polynomial\n",
    "    hiPhi = np.array([pow(x0,j) for j in range(0,i+1)]).transpose()\n",
    "    # Solve the normal equations using a standard solver\n",
    "    w = np.linalg.solve(np.matmul(Phi.transpose(),Phi), np.matmul(Phi.transpose(),y))\n",
    "    # record the weights\n",
    "    weights.append(w)\n",
    "    # Compute the estimated values of the data points so we can compute the error    \n",
    "    yp = np.matmul(Phi,w)\n",
    "    # compute the RMS error\n",
    "    rsq.append(np.sqrt(np.sum(pow(y-yp,2)/x.size)))\n",
    "    # plot the data and the estimates of the model for the low-res and high-res samplings\n",
    "    xyplot(x, y, x2=x0, y2=y0, x3=x0, y3=np.matmul(hiPhi,w), title='M='+str(i), fname='sin-noisy-M'+str(i)+'.pdf')\n",
    "# Plot the error curve\n",
    "plt.figure()\n",
    "plt.plot(rsq,'k.-')\n",
    "plt.xlabel('Degree of fit')\n",
    "plt.ylabel('RMS Error')\n",
    "plt.tight_layout()\n",
    "plt.savefig('sin-noisy-rms.pdf')\n",
    "# Print out the weights\n",
    "for w in weights:\n",
    "    print(' & '.join(['{:5.2f}'.format(i) for i in w]))"
   ]
  },
  {
   "cell_type": "markdown",
   "metadata": {},
   "source": [
    "Demonstrate that add additional data points changes the outcome and the model no longer overfits."
   ]
  },
  {
   "cell_type": "code",
   "execution_count": null,
   "metadata": {},
   "outputs": [],
   "source": [
    "np.random.seed(12345)\n",
    "x1 = np.linspace(-1,1,50)\n",
    "y1 = f(x1) + 0.5*np.random.randn(x1.size)\n",
    "# Maximum degree of fit\n",
    "M = 10\n",
    "# Empty list to record the RMS errors\n",
    "rsq = []\n",
    "# Empty list to record the weights for each regression run\n",
    "weights = []\n",
    "# For each degree of polynomaial fit\n",
    "for i in range(0,M):\n",
    "    # Create the Matrix of basis functions for the sampled data\n",
    "    Phi = np.array([pow(x1,j) for j in range(0,i+1)]).transpose()\n",
    "    # Create a high-resolution basis matrix so that we can plot the fitted polynomial\n",
    "    hiPhi = np.array([pow(x0,j) for j in range(0,i+1)]).transpose()\n",
    "    # Solve the normal equations using a standard solver\n",
    "    w = np.linalg.solve(np.matmul(Phi.transpose(),Phi), np.matmul(Phi.transpose(),y1))\n",
    "    # record the weights\n",
    "    weights.append(w)\n",
    "    # Compute the estimated values of the data points so we can compute the error    \n",
    "    yp = np.matmul(Phi,w)\n",
    "    # compute the RMS error\n",
    "    rsq.append(np.sqrt(np.sum(pow(y1-yp,2)/x.size)))\n",
    "    # plot the data and the estimates of the model for the low-res and high-res samplings\n",
    "    xyplot(x1, y1, x2=x0, y2=y0, x3=x0, y3=np.matmul(hiPhi,w), title='M='+str(i), fname='sin-noisy-highres-M'+str(i)+'.pdf')\n",
    "# Plot the error curve\n",
    "plt.figure()\n",
    "plt.plot(rsq,'k.-')\n",
    "plt.xlabel('Degree of fit')\n",
    "plt.ylabel('RMS Error')\n",
    "plt.tight_layout()\n",
    "plt.savefig('sin-noisy-highres-rms.pdf')\n",
    "# Print out the weights\n",
    "for w in weights:\n",
    "    print(' & '.join(['{:5.2f}'.format(i) for i in w]))"
   ]
  },
  {
   "cell_type": "markdown",
   "metadata": {},
   "source": [
    "An alternative way to prevent overfitting is to employ a regularisation method. Here, we use $L_2$ regularisation, which employs the loss function\n",
    "\n",
    "$$\\mathcal{L}(\\mathbf{w}) = \\left(\\mathbf{y}-\\mathbf{\\Phi}\\mathbf{w}\\right)^\\mathrm{T}\\left(\\mathbf{y}-\\mathbf{\\Phi}\\mathbf{w}\\right) + \\lambda\\mathbf{w}^\\mathrm{T}\\mathbf{w}$$\n",
    "\n",
    "which is minimised by solving\n",
    "$$\\left(\\mathbf{\\Phi}^\\mathrm{T}\\mathbf{\\Phi}-\\lambda\\mathbf{I}\\right)\\mathbf{w} = \\mathbf{\\Phi}^\\mathrm{T}\\mathbf{y}$$\n",
    "\n",
    "We will see here that whilst too little regularisation leads to overfitting, too much leads to a loss of expressive power in the model\n"
   ]
  },
  {
   "cell_type": "code",
   "execution_count": null,
   "metadata": {},
   "outputs": [],
   "source": [
    "# Generate data with random noise\n",
    "np.random.seed(12345)\n",
    "y = f(x) + 0.5*np.random.randn(x.size)\n",
    "# Empty lists to store results\n",
    "rsq = []\n",
    "weights = []\n",
    "# Create a basis matrix for a high-order fit so we can assess overfitting.\n",
    "Phi = np.array([pow(x,i) for i in range(0,10)]).transpose()\n",
    "# Basis for high-order, high res fit so we can plot the fit.\n",
    "hiPhi = np.array([pow(x0,i) for i in range(0,10)]).transpose()\n",
    "# Define the values of the regularisation parameter \n",
    "loglambda = [-6, -5, -4, -3, -2, -1]\n",
    "for l in loglambda:\n",
    "    # Solve the normal equations using a standard solver\n",
    "    w = np.linalg.solve(np.matmul(Phi.transpose(),Phi)-pow(10,l)*np.eye(y.size), np.matmul(Phi.transpose(),y))\n",
    "    # record the weights\n",
    "    weights.append(w)\n",
    "    # Compute the estimated values of the data points so we can compute the error\n",
    "    yp = np.matmul(Phi,w)\n",
    "    # compute the RMS error\n",
    "    rsq.append(np.sqrt(np.sum(pow(y-yp,2)/x.size)))\n",
    "    # plot the data and the estimates of the model for the low-res and high-res samplings\n",
    "    xyplot(x, y, x2=x0, y2=y0, x3=x0, y3=np.matmul(hiPhi,w), title=r'$\\log(\\lambda)$='+str(l), fname='sin-noisy-L2-L'+str(l)+'.pdf')\n",
    "# Plot the error curve\n",
    "plt.figure()\n",
    "plt.plot(loglambda,rsq,'k.-')\n",
    "plt.xlabel(r'$\\log(\\lambda)$')\n",
    "plt.ylabel('RMS Error')\n",
    "plt.tight_layout()\n",
    "plt.savefig('sin-noisy-L2-rms.pdf')\n",
    "for w in weights:\n",
    "    print(' & '.join(['{:5.2f}'.format(i) for i in w]))"
   ]
  },
  {
   "cell_type": "markdown",
   "metadata": {},
   "source": [
    "Let us now try some validation. Let's generate a new 20-point dataset."
   ]
  },
  {
   "cell_type": "code",
   "execution_count": null,
   "metadata": {},
   "outputs": [],
   "source": [
    "np.random.seed(123123)\n",
    "x = np.atleast_2d(np.random.permutation(np.linspace(-1,1,20)))\n",
    "y = f(x) + 0.25*np.random.randn(x.size)\n",
    "# High-resolution dataset\n",
    "xt = np.linspace(-1,1,1000)\n",
    "yt = f(xt)\n",
    "# Combine the x and y coordinates into a single nump array so that we can split them up into the different sets more easily.\n",
    "D = np.concatenate([x.T,y.T],axis=1)\n",
    "xyplot(D[:,0],D[:,1],x2=xt,y2=yt,title='Full Dataset')"
   ]
  },
  {
   "cell_type": "markdown",
   "metadata": {},
   "source": [
    "Split the dataset into Training, Validation and Testing sets"
   ]
  },
  {
   "cell_type": "code",
   "execution_count": null,
   "metadata": {},
   "outputs": [],
   "source": [
    "# Split the dataset\n",
    "TrainSet = D[0:10]\n",
    "ValidationSet = D[10:15]\n",
    "TestSet = D[15:20]"
   ]
  },
  {
   "cell_type": "code",
   "execution_count": null,
   "metadata": {},
   "outputs": [],
   "source": [
    "# Define the models. We will look a polynomials of order 1 to 10\n",
    "# Create empty lists for the results.\n",
    "weights = []\n",
    "train_error = []\n",
    "validation_error = []\n",
    "max_order=10\n",
    "for i in range(max_order):\n",
    "    PhiTrain = np.array([pow(TrainSet[:,0],j) for j in range(0,i+1)]).transpose()\n",
    "    PhiValid = np.array([pow(ValidationSet[:,0],j) for j in range(0,i+1)]).transpose()\n",
    "    # Train the model\n",
    "    w = np.linalg.solve(np.matmul(PhiTrain.transpose(),PhiTrain), np.matmul(PhiTrain.transpose(),TrainSet[:,1]))\n",
    "    print(w)\n",
    "    weights.append(w)\n",
    "    # Compute the error on the training set\n",
    "    train_error.append(np.sqrt(np.average(pow(TrainSet[:,1]-np.matmul(PhiTrain,w),2))))\n",
    "    # Compute the error on the validation set\n",
    "    validation_error.append(np.sqrt(np.average(pow(ValidationSet[:,1]-np.matmul(PhiValid,w),2))))\n",
    "    plt.figure()\n",
    "    # Plot the training data\n",
    "    plt.plot(TrainSet[:,0],TrainSet[:,1],'r.')\n",
    "    # Plot the validation data\n",
    "    plt.plot(ValidationSet[:,0],ValidationSet[:,1],'b.')\n",
    "    # Plot the real trend line\n",
    "    plt.plot(xt,yt,'k-')\n",
    "    # Plot the high-res fitted curve\n",
    "    plt.plot(xt,np.matmul(np.array([pow(xt,j) for j in range(0,i+1)]).transpose(),w),'r-')\n",
    "    plt.xlabel('x')\n",
    "    plt.ylabel('y')\n",
    "    plt.title('M='+str(i))\n",
    "    plt.tight_layout()\n",
    "    plt.savefig('Validation-M='+str(i)+'.pdf')\n",
    "# plot the training and validation errors\n",
    "plt.figure()\n",
    "plt.plot(np.linspace(0,max_order-1,max_order),train_error, 'k.-')\n",
    "plt.plot(np.linspace(0,max_order-1,max_order),validation_error, 'b.-')\n",
    "plt.xlabel('Degree of fit')\n",
    "plt.ylabel('RMS Error')\n",
    "plt.tight_layout()\n",
    "plt.savefig('Validation-Errors.pdf')\n"
   ]
  },
  {
   "cell_type": "markdown",
   "metadata": {},
   "source": [
    "The plot of the training error and the validation error suggests that $M=5$ is the best choice for the polynomila order: adding higher order terms does not change the error very much, and so we apply Ockham's razor and select the simplest model. There is one final task: to compute the error on the unseen test set to see if we have really learned the model."
   ]
  },
  {
   "cell_type": "code",
   "execution_count": null,
   "metadata": {},
   "outputs": [],
   "source": [
    "# Optimal fit is M=5, compute test error for this\n",
    "Phi = np.array([pow(TestSet[:,0],j) for j in range(0,6)]).transpose()\n",
    "test_error = np.sqrt(np.average(pow(TestSet[:,1]-np.matmul(Phi,weights[5]),2)))\n",
    "print(test_error)"
   ]
  },
  {
   "cell_type": "markdown",
   "metadata": {},
   "source": [
    "This is comparable to the validation error - we would not expect it to be quite as low because the test data is unseen. Note that other order fits may fit the test data even more accurately - but this is a consequence of the relatively small sampling."
   ]
  },
  {
   "cell_type": "code",
   "execution_count": null,
   "metadata": {},
   "outputs": [],
   "source": []
  },
  {
   "cell_type": "code",
   "execution_count": null,
   "metadata": {},
   "outputs": [],
   "source": []
  }
 ],
 "metadata": {
  "kernelspec": {
   "display_name": "Python 3",
   "language": "python",
   "name": "python3"
  },
  "language_info": {
   "codemirror_mode": {
    "name": "ipython",
    "version": 3
   },
   "file_extension": ".py",
   "mimetype": "text/x-python",
   "name": "python",
   "nbconvert_exporter": "python",
   "pygments_lexer": "ipython3",
   "version": "3.6.6"
  }
 },
 "nbformat": 4,
 "nbformat_minor": 2
}
